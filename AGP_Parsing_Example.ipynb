{
 "cells": [
  {
   "cell_type": "code",
   "execution_count": 19,
   "metadata": {},
   "outputs": [],
   "source": [
    "from geofiles.openservice import OpenServices\n",
    "from geofiles.searcher import Searcher\n",
    "from agptext.parseragp import AGP_OldFormat, SplitSlices, AGP_Head, UnidadesVerticais, UnidadesVerticaisDict, AGP_TextPool\n",
    "from lisbelo.json import readJson, writeJson\n",
    "import pandas as pd\n",
    "import re"
   ]
  },
  {
   "cell_type": "markdown",
   "metadata": {},
   "source": [
    "### Definindo a pasta para a busca"
   ]
  },
  {
   "cell_type": "code",
   "execution_count": 5,
   "metadata": {},
   "outputs": [],
   "source": [
    "rootpath = '/home/capyba/Documentos/PedroGit/LisBelo/data'"
   ]
  },
  {
   "cell_type": "code",
   "execution_count": 6,
   "metadata": {},
   "outputs": [],
   "source": [
    "agp = Searcher.Search_Txt(rootpath,'agp')"
   ]
  },
  {
   "cell_type": "markdown",
   "metadata": {},
   "source": [
    "## Abrindo arquivos com a classe OpenServices"
   ]
  },
  {
   "cell_type": "code",
   "execution_count": 7,
   "metadata": {},
   "outputs": [],
   "source": [
    "open_agp = OpenServices.OpenList_Tuples(agp)"
   ]
  },
  {
   "cell_type": "markdown",
   "metadata": {},
   "source": [
    "#### Iniciando a lista de recebimento de textos\n",
    "\n",
    "A classe AGP_TextPool toma conta da identificação dos arquivos AGP, no formato novo e antigo."
   ]
  },
  {
   "cell_type": "code",
   "execution_count": 8,
   "metadata": {},
   "outputs": [
    {
     "name": "stdout",
     "output_type": "stream",
     "text": [
      "Iniciando Recebimento dos ARQUIVOS\n",
      "14 Pocos  Adicionados ao POOL\n",
      "0 Pocos  Adicionados ao DEFEC_POOL\n"
     ]
    }
   ],
   "source": [
    "new_pool = AGP_TextPool(open_agp)"
   ]
  },
  {
   "cell_type": "markdown",
   "metadata": {},
   "source": [
    "### Iniciando o tratamento dos arquivos"
   ]
  },
  {
   "cell_type": "code",
   "execution_count": 9,
   "metadata": {},
   "outputs": [
    {
     "name": "stdout",
     "output_type": "stream",
     "text": [
      "14 files received\n"
     ]
    }
   ],
   "source": [
    "agpold = AGP_OldFormat(new_pool.AGP_OldFormat_Pool)\n",
    "stripedagp = SplitSlices(agpold.result_list)"
   ]
  },
  {
   "cell_type": "code",
   "execution_count": 10,
   "metadata": {},
   "outputs": [],
   "source": [
    "AgpHead = AGP_Head(stripedagp.Striped_Slices)"
   ]
  },
  {
   "cell_type": "code",
   "execution_count": 11,
   "metadata": {},
   "outputs": [],
   "source": [
    "UnidadesVert = UnidadesVerticais(agpold.result_list)"
   ]
  },
  {
   "cell_type": "code",
   "execution_count": 12,
   "metadata": {},
   "outputs": [],
   "source": [
    "unidict = UnidadesVerticaisDict(UnidadesVert.UNIDADES_VERTICAIS[0])"
   ]
  },
  {
   "cell_type": "markdown",
   "metadata": {},
   "source": [
    "Escrevendo um JSON de saida"
   ]
  },
  {
   "cell_type": "code",
   "execution_count": 18,
   "metadata": {},
   "outputs": [],
   "source": [
    "writeJson('saoluis.json',unidict.POCO_SESSION_DICT)"
   ]
  }
 ],
 "metadata": {
  "interpreter": {
   "hash": "31f2aee4e71d21fbe5cf8b01ff0e069b9275f58929596ceb00d14d90e3e16cd6"
  },
  "kernelspec": {
   "display_name": "Python 3.9.9 64-bit",
   "language": "python",
   "name": "python3"
  },
  "language_info": {
   "codemirror_mode": {
    "name": "ipython",
    "version": 3
   },
   "file_extension": ".py",
   "mimetype": "text/x-python",
   "name": "python",
   "nbconvert_exporter": "python",
   "pygments_lexer": "ipython3",
   "version": "3.9.9"
  },
  "orig_nbformat": 4
 },
 "nbformat": 4,
 "nbformat_minor": 2
}
