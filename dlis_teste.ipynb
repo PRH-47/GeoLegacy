{
 "cells": [
  {
   "cell_type": "code",
   "execution_count": 2,
   "metadata": {},
   "outputs": [],
   "source": [
    "from dlisio import dlis\n",
    "import pathlib\n",
    "import pandas as pd\n",
    "from lisbelo.mnemonicfix import MnemonicFix\n",
    "from lisbelo.searcher import Searcher\n",
    "from dataclasses import dataclass\n"
   ]
  },
  {
   "cell_type": "code",
   "execution_count": 3,
   "metadata": {},
   "outputs": [],
   "source": [
    "root = pathlib.Path('/Users/giba')\n",
    "\n",
    "dlis_list = Searcher.SearchDlis(root)"
   ]
  },
  {
   "cell_type": "code",
   "execution_count": 4,
   "metadata": {},
   "outputs": [],
   "source": [
    "OpenDlis = []"
   ]
  },
  {
   "cell_type": "code",
   "execution_count": 5,
   "metadata": {},
   "outputs": [],
   "source": [
    "@dataclass\n",
    "class DlisBelo:\n",
    "\n",
    "    DlisSoul:dlis.PhysicalFile\n",
    "\n",
    "    def __init__(self,dlisfile:dlis.PhysicalFile) -> None:\n",
    "\n",
    "        self.DlisSoul=dlisfile\n",
    "        self.Merged_Logical=[]\n",
    "        self.Merge_Files(dlisfile)\n",
    "\n",
    "    def Merge_Files(self, physicalfile: dlis.PhysicalFile) -> None:\n",
    "        \"\"\"\n",
    "        Merging all Logical Files inside the Physical file.\n",
    "        \"\"\"\n",
    "        *logical, = physicalfile\n",
    "        self.Merged_Logical.extend(logical)"
   ]
  },
  {
   "cell_type": "code",
   "execution_count": 13,
   "metadata": {},
   "outputs": [],
   "source": [
    "dflist=[]"
   ]
  },
  {
   "cell_type": "code",
   "execution_count": 14,
   "metadata": {},
   "outputs": [],
   "source": [
    "class DlisPlaza:\n",
    "\n",
    "    dlisFileList:list[DlisBelo]\n",
    "\n",
    "    def __init__(self,pathlist:list[pathlib.Path]) -> None:\n",
    "        self.pathlist = pathlist\n",
    "        self.dlisFileList=[]\n",
    "        self.OpenList(self.pathlist)\n",
    "\n",
    "    def OpenList(self,pathlist:list[pathlib.Path]):\n",
    "        for path in pathlist:\n",
    "            with dlis.load(f'{path}') as (*files,):\n",
    "\n",
    "                for fil in files:\n",
    "                    channes = fil.channels\n",
    "                    for ch in channes:\n",
    "                        df = pd.DataFrame(ch.curves())\n",
    "                        dflist.append(df)\n",
    "    \n",
    "\n",
    "           \n",
    "\n",
    "        "
   ]
  },
  {
   "cell_type": "code",
   "execution_count": 15,
   "metadata": {},
   "outputs": [],
   "source": [
    "DlisList_one = DlisPlaza(dlis_list)"
   ]
  },
  {
   "cell_type": "code",
   "execution_count": 24,
   "metadata": {},
   "outputs": [
    {
     "data": {
      "text/html": [
       "<div>\n",
       "<style scoped>\n",
       "    .dataframe tbody tr th:only-of-type {\n",
       "        vertical-align: middle;\n",
       "    }\n",
       "\n",
       "    .dataframe tbody tr th {\n",
       "        vertical-align: top;\n",
       "    }\n",
       "\n",
       "    .dataframe thead th {\n",
       "        text-align: right;\n",
       "    }\n",
       "</style>\n",
       "<table border=\"1\" class=\"dataframe\">\n",
       "  <thead>\n",
       "    <tr style=\"text-align: right;\">\n",
       "      <th></th>\n",
       "      <th>0</th>\n",
       "    </tr>\n",
       "  </thead>\n",
       "  <tbody>\n",
       "    <tr>\n",
       "      <th>0</th>\n",
       "      <td>340.0</td>\n",
       "    </tr>\n",
       "    <tr>\n",
       "      <th>1</th>\n",
       "      <td>340.2</td>\n",
       "    </tr>\n",
       "    <tr>\n",
       "      <th>2</th>\n",
       "      <td>340.4</td>\n",
       "    </tr>\n",
       "    <tr>\n",
       "      <th>3</th>\n",
       "      <td>340.6</td>\n",
       "    </tr>\n",
       "    <tr>\n",
       "      <th>4</th>\n",
       "      <td>340.8</td>\n",
       "    </tr>\n",
       "    <tr>\n",
       "      <th>...</th>\n",
       "      <td>...</td>\n",
       "    </tr>\n",
       "    <tr>\n",
       "      <th>3600</th>\n",
       "      <td>1060.0</td>\n",
       "    </tr>\n",
       "    <tr>\n",
       "      <th>3601</th>\n",
       "      <td>1060.2</td>\n",
       "    </tr>\n",
       "    <tr>\n",
       "      <th>3602</th>\n",
       "      <td>1060.4</td>\n",
       "    </tr>\n",
       "    <tr>\n",
       "      <th>3603</th>\n",
       "      <td>1060.6</td>\n",
       "    </tr>\n",
       "    <tr>\n",
       "      <th>3604</th>\n",
       "      <td>1060.8</td>\n",
       "    </tr>\n",
       "  </tbody>\n",
       "</table>\n",
       "<p>3605 rows × 1 columns</p>\n",
       "</div>"
      ],
      "text/plain": [
       "           0\n",
       "0      340.0\n",
       "1      340.2\n",
       "2      340.4\n",
       "3      340.6\n",
       "4      340.8\n",
       "...      ...\n",
       "3600  1060.0\n",
       "3601  1060.2\n",
       "3602  1060.4\n",
       "3603  1060.6\n",
       "3604  1060.8\n",
       "\n",
       "[3605 rows x 1 columns]"
      ]
     },
     "execution_count": 24,
     "metadata": {},
     "output_type": "execute_result"
    }
   ],
   "source": [
    "dflist[8]"
   ]
  },
  {
   "cell_type": "code",
   "execution_count": 8,
   "metadata": {},
   "outputs": [
    {
     "ename": "IndexError",
     "evalue": "list index out of range",
     "output_type": "error",
     "traceback": [
      "\u001b[0;31m---------------------------------------------------------------------------\u001b[0m",
      "\u001b[0;31mIndexError\u001b[0m                                Traceback (most recent call last)",
      "\u001b[0;32m/var/folders/8r/l4rj4xgs0ssg9b1hrhr8j1fw0000gn/T/ipykernel_72784/3017758728.py\u001b[0m in \u001b[0;36m<module>\u001b[0;34m\u001b[0m\n\u001b[0;32m----> 1\u001b[0;31m \u001b[0mdlis_one\u001b[0m \u001b[0;34m=\u001b[0m \u001b[0mDlisList_one\u001b[0m\u001b[0;34m.\u001b[0m\u001b[0mdlisFileList\u001b[0m\u001b[0;34m[\u001b[0m\u001b[0;36m0\u001b[0m\u001b[0;34m]\u001b[0m\u001b[0;34m\u001b[0m\u001b[0;34m\u001b[0m\u001b[0m\n\u001b[0m\u001b[1;32m      2\u001b[0m \u001b[0mdf\u001b[0m \u001b[0;34m=\u001b[0m \u001b[0mpd\u001b[0m\u001b[0;34m.\u001b[0m\u001b[0mDataFrame\u001b[0m\u001b[0;34m(\u001b[0m\u001b[0mdlis_one\u001b[0m\u001b[0;34m.\u001b[0m\u001b[0mMerged_Logical\u001b[0m\u001b[0;34m[\u001b[0m\u001b[0;36m0\u001b[0m\u001b[0;34m]\u001b[0m\u001b[0;34m.\u001b[0m\u001b[0mobject\u001b[0m\u001b[0;34m(\u001b[0m\u001b[0;34m'CHANNEL'\u001b[0m\u001b[0;34m,\u001b[0m\u001b[0;34m'SP'\u001b[0m\u001b[0;34m)\u001b[0m\u001b[0;34m.\u001b[0m\u001b[0mcurves\u001b[0m\u001b[0;34m(\u001b[0m\u001b[0;34m)\u001b[0m\u001b[0;34m)\u001b[0m\u001b[0;34m\u001b[0m\u001b[0;34m\u001b[0m\u001b[0m\n",
      "\u001b[0;31mIndexError\u001b[0m: list index out of range"
     ]
    }
   ],
   "source": [
    "dlis_one = DlisList_one.dlisFileList[0]\n",
    "df = pd.DataFrame(dlis_one.Merged_Logical[0].object('CHANNEL','SP').curves())"
   ]
  }
 ],
 "metadata": {
  "interpreter": {
   "hash": "aee8b7b246df8f9039afb4144a1f6fd8d2ca17a180786b69acc140d282b71a49"
  },
  "kernelspec": {
   "display_name": "Python 3.9.7 64-bit",
   "language": "python",
   "name": "python3"
  },
  "language_info": {
   "codemirror_mode": {
    "name": "ipython",
    "version": 3
   },
   "file_extension": ".py",
   "mimetype": "text/x-python",
   "name": "python",
   "nbconvert_exporter": "python",
   "pygments_lexer": "ipython3",
   "version": "3.9.7"
  },
  "orig_nbformat": 4
 },
 "nbformat": 4,
 "nbformat_minor": 2
}
