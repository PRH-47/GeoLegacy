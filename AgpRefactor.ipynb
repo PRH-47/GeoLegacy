{
 "cells": [
  {
   "cell_type": "code",
   "execution_count": 1,
   "metadata": {},
   "outputs": [],
   "source": [
    "from geofiles.openservice import OpenServices\n",
    "from geofiles.searcher import Searcher\n",
    "from agptext.parseragp import AGP_OLD, SplitSlices, AGP_HEAD, UnidadesVerticais, UnidadesVerticaisDict\n",
    "import re"
   ]
  },
  {
   "cell_type": "code",
   "execution_count": 2,
   "metadata": {},
   "outputs": [],
   "source": [
    "rootpath = '/home/capyba/Documentos/PedroGit/LisBelo/data'"
   ]
  },
  {
   "cell_type": "code",
   "execution_count": 3,
   "metadata": {},
   "outputs": [],
   "source": [
    "agp = Searcher.Search_Txt(rootpath,'agp')"
   ]
  },
  {
   "cell_type": "code",
   "execution_count": 4,
   "metadata": {},
   "outputs": [],
   "source": [
    "open_agp = OpenServices.OpenList_Tuples(agp)"
   ]
  },
  {
   "cell_type": "code",
   "execution_count": 5,
   "metadata": {},
   "outputs": [
    {
     "name": "stdout",
     "output_type": "stream",
     "text": [
      "14 files received\n"
     ]
    }
   ],
   "source": [
    "agpold = AGP_OLD(open_agp)\n",
    "stripedagp = SplitSlices(agpold.result_list)"
   ]
  },
  {
   "cell_type": "code",
   "execution_count": 6,
   "metadata": {},
   "outputs": [],
   "source": [
    "AgpHead = AGP_HEAD(stripedagp.Striped_Slices)"
   ]
  },
  {
   "cell_type": "code",
   "execution_count": 7,
   "metadata": {},
   "outputs": [
    {
     "name": "stdout",
     "output_type": "stream",
     "text": [
      "UNIDADE VERTICAL NÃO ENCONTRADA\n",
      "(0, ' POCO           :   1RPR 0001  MA       \\n')\n"
     ]
    }
   ],
   "source": [
    "UnidadesVert = UnidadesVerticais(agpold.result_list)"
   ]
  },
  {
   "cell_type": "code",
   "execution_count": 8,
   "metadata": {},
   "outputs": [],
   "source": [
    "unidict = UnidadesVerticaisDict(UnidadesVert.UNIDADES_VERTICAIS[0])"
   ]
  },
  {
   "cell_type": "code",
   "execution_count": 9,
   "metadata": {},
   "outputs": [],
   "source": [
    "def Merge_dict():\n",
    "        \"\"\"\n",
    "        Merged head with vertical unity list!!!\n",
    "        Some print functions to check if everything is working is\n",
    "        just below\n",
    "        \"\"\"\n",
    "\n",
    "        MERGED_HEAD_UNI = []\n",
    "        zip_iter = list(zip(AgpHead.HEADPOOL.__iter__(),\n",
    "                        unidict.POCO_SESSION_DICT.__iter__()))\n",
    "\n",
    "        for zz in zip_iter:\n",
    "            mergeddict = {}\n",
    "            if list(zip_iter[0][0].values())[0] == list(zip_iter[0][1].keys())[0]:\n",
    "                mergeddict.update(zz[0])\n",
    "                mergeddict.update(zz[1])\n",
    "\n",
    "                MERGED_HEAD_UNI.append(mergeddict)"
   ]
  },
  {
   "cell_type": "code",
   "execution_count": 10,
   "metadata": {},
   "outputs": [],
   "source": [
    "Merge_dict()"
   ]
  }
 ],
 "metadata": {
  "interpreter": {
   "hash": "31f2aee4e71d21fbe5cf8b01ff0e069b9275f58929596ceb00d14d90e3e16cd6"
  },
  "kernelspec": {
   "display_name": "Python 3.9.9 64-bit",
   "language": "python",
   "name": "python3"
  },
  "language_info": {
   "codemirror_mode": {
    "name": "ipython",
    "version": 3
   },
   "file_extension": ".py",
   "mimetype": "text/x-python",
   "name": "python",
   "nbconvert_exporter": "python",
   "pygments_lexer": "ipython3",
   "version": "3.9.9"
  },
  "orig_nbformat": 4
 },
 "nbformat": 4,
 "nbformat_minor": 2
}
