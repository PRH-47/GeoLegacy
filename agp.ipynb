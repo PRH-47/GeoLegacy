{
 "cells": [
  {
   "cell_type": "code",
   "execution_count": 1,
   "metadata": {},
   "outputs": [
    {
     "name": "stdout",
     "output_type": "stream",
     "text": [
      "Iniciando Recebimento dos ARQUIVOS\n",
      "14 Pocos  Adicionados ao POOL\n",
      "0 Pocos  Adicionados ao DEFEC_POOL\n",
      "14 Arquivos Recebidos\n",
      "14 Arquivos Processados\n",
      "14\n",
      "UNIDADE VERTICAL NÃO ENCONTRADA\n",
      "[(0, ' POCO           :   1RPR 0001  MA       \\n'), (1, '                                                                                                                                     \\n'), (2, ' IDENTIFICADOR  :   SA23O31NE33P34A                         BACIA          :   SAO LUIZ                                              \\n'), (3, ' CAMPO          :                                           DATUM          :   SAD-69                                                \\n'), (4, ' LATITUDE       :    -2.54575 (   -2  32 44.7)              LONGITUDE      :   -45.83646 (  -45  50 11.3)                            \\n'), (5, ' MERID.CENTRAL  :   - 45                                    COORD.UTM FUNDO:    9718582.0S  407007.0W                                \\n'), (6, ' DISTRITO       :   E&P-AM                                  ESTADO         :   MA                                                    \\n'), (7, ' MUNICIPIO      :   PINHEIRO                                CODIGO POCO    :   010617                                                \\n'), (8, ' QUADRICULA     :   50971840                                MESA ROTATIVA  :     27.0                                                \\n'), (9, ' B.A.P          :      22.0                                 P.F.SONDADOR   :    931.0                                                \\n'), (10, ' PROF.MX.PERF.  :    931.6                                  METROS PERF.   :    931.6                                                \\n'), (11, ' MAIOR PROF.    :    931.6                                  INICIO         :   10/11/84                                              \\n'), (12, ' TERMINO        :   20/11/84                                DATA LIB.SONDA :   21/11/84                                              \\n'), (13, ' ULT.RECLASSIF. :   30/11/84                                ULT.RECLASSIF. :   LOCACAO                                               \\n'), (14, ' SITUACAO LOC.  :   CONCLUIDO                               DATA APROV.LOC :   05/06/84                                              \\n'), (15, ' CADASTRO       :   00528                                   SEDOC          :   0663                                                  \\n'), (16, ' SONDA          :   ST-3                                    FORMACAO P.F.  :     EMBASA                                              \\n'), (17, ' TERRA / MAR    :   TERRA                                   ACS RISCO      :   10                                                    \\n'), (18, ' CONTR. RISCO   :   ESSO                                    DOC.APROV.LOC. :   SUPEX-5180/1984                                       \\n'), (19, ' NOME           :   RIO PARAUA.1                            CLASSIFICACAO  :   PIONEIRO                                              \\n'), (20, ' RECLASSIFICACAO:   SECO SEM INDICACAO DE H.C.                                                                                       \\n'), (21, ' MC C.UTM BASE  :   - 45                                    COORD.UTM BASE :     9718582.0S    407007.0W                             \\n'), (22, ' DADOS  LOCACAO :                                                                                                                    \\n'), (23, ' MC LOCACAO     :   - 45                                    COORD.UTM LOC. :     9718582.0S   407007.0W                              \\n'), (24, ' DATUM LOCACAO  :   SAD-69                                  EMPR. OPER.1/2 :    INF. INEXISTENTE                                     \\n'), (25, ' DIRECIONAL?    :   VERTICAL                                                                                                         \\n'), (26, ' HISTORICO DA RECLASSIFICACAO -      30/11/84   -  SECO SEM INDICACAO DE H.C.                            - RECLASSIFICACAO           \\n')]\n"
     ]
    }
   ],
   "source": [
    "from model import wellload\n",
    "import pathlib\n",
    "root = pathlib.Path('/Users/giba/Pedro_Work/MONUMENTO/_MASTER_APPS/LisBelo/pocos')\n",
    "agp = wellload(root)\n"
   ]
  },
  {
   "cell_type": "code",
   "execution_count": 3,
   "metadata": {},
   "outputs": [],
   "source": [
    "from lisbelo.json import JSON_Write_DictList\n",
    "\n",
    "JSON_Write_DictList('SaoLuiasAGP.json',agp.MERGED_HEAD_UNI)"
   ]
  }
 ],
 "metadata": {
  "interpreter": {
   "hash": "aee8b7b246df8f9039afb4144a1f6fd8d2ca17a180786b69acc140d282b71a49"
  },
  "kernelspec": {
   "display_name": "Python 3.9.7 64-bit",
   "language": "python",
   "name": "python3"
  },
  "language_info": {
   "codemirror_mode": {
    "name": "ipython",
    "version": 3
   },
   "file_extension": ".py",
   "mimetype": "text/x-python",
   "name": "python",
   "nbconvert_exporter": "python",
   "pygments_lexer": "ipython3",
   "version": "3.9.7"
  },
  "orig_nbformat": 4
 },
 "nbformat": 4,
 "nbformat_minor": 2
}
