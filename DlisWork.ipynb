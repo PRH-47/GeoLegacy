{
 "cells": [
  {
   "cell_type": "markdown",
   "metadata": {},
   "source": [
    "# Working with DlisBelo"
   ]
  },
  {
   "cell_type": "code",
   "execution_count": 1,
   "metadata": {},
   "outputs": [],
   "source": [
    "import pathlib\n",
    "\n",
    "from lisbelo.plotter import GammaPlot\n",
    "from geofiles.searcher import Searcher\n",
    "from lisbelo.dlisplaza import DlisPlaza"
   ]
  },
  {
   "cell_type": "markdown",
   "metadata": {},
   "source": [
    "## Searching for .dlis extensions"
   ]
  },
  {
   "cell_type": "code",
   "execution_count": 2,
   "metadata": {},
   "outputs": [],
   "source": [
    "root = pathlib.Path('/home/capyba/Documentos/PedroGit/LisBelo/data')\n",
    "dlis_list = Searcher.SearchDlis(root)"
   ]
  },
  {
   "cell_type": "code",
   "execution_count": 3,
   "metadata": {},
   "outputs": [],
   "source": [
    "Dlis_Plaza = DlisPlaza(pathlist=dlis_list)"
   ]
  },
  {
   "cell_type": "code",
   "execution_count": 4,
   "metadata": {},
   "outputs": [],
   "source": [
    "gamma1 = Dlis_Plaza.GammaScan()\n"
   ]
  },
  {
   "cell_type": "code",
   "execution_count": 5,
   "metadata": {},
   "outputs": [
    {
     "name": "stdout",
     "output_type": "stream",
     "text": [
      "[Tool(HDT___.001)] pertence ao arquivo 2PR  0001  MABRA2PR  0001  MA1\n",
      "[Tool(HDT___.002)] pertence ao arquivo 2PR  0001  MABRA2PR  0001  MA1\n",
      "[Tool(GEOLIS.003)] pertence ao arquivo 2PR  0001  MABRA2PR  0001  MA1\n",
      "[Tool(GEOLIS.004)] pertence ao arquivo 2PR  0001  MABRA2PR  0001  MA1\n",
      "[Tool(GEOLIS.005)] pertence ao arquivo 2PR  0001  MABRA2PR  0001  MA1\n",
      "[Tool(ISF/ISF/BHC/BHC/GR)] pertence ao arquivo 2PR  0001  MABRA2PR  0001  MA1\n",
      "[Tool(ISF/BHC/GR)] pertence ao arquivo 2PR  0001  MABRA2PR  0001  MA1\n",
      "[Tool(FDC/NGS/CNL)] pertence ao arquivo 2PR  0001  MABRA2PR  0001  MA1\n",
      "[Tool(HDT)] pertence ao arquivo 2PR  0001  MABRA2PR  0001  MA1\n",
      "[Tool(VSP_W)] pertence ao arquivo 2PR  0001  MABRA2PR  0001  MA1\n",
      "[Tool(CST_GR)] pertence ao arquivo 2PR  0001  MABRA2PR  0001  MA1\n",
      "[Tool(FROM__ISS)] pertence ao arquivo 2PR  0001  MABRA2PR  0001  MA1\n",
      "[Tool(FDC/CNL/GR)] pertence ao arquivo 2PR  0001  MABRA2PR  0001  MA1\n",
      "[Tool(NGT)] pertence ao arquivo 2PR  0001  MABRA2PR  0001  MA1\n",
      "[Tool(FROM__FDN)] pertence ao arquivo 2PR  0001  MABRA2PR  0001  MA1\n",
      "[Tool(ISF/BHC/GR)] pertence ao arquivo 2PR  0001  MABRA2PR  0001  MA1\n",
      "[Tool(SONICO_CORRIGIDO)] pertence ao arquivo 2PR  0001  MABRA2PR  0001  MA1\n",
      "[Tool(FROM__NGT)] pertence ao arquivo 2PR  0001  MABRA2PR  0001  MA1\n",
      "[Tool(CURVAS_EM_TEMPO)] pertence ao arquivo 2PR  0001  MABRA2PR  0001  MA1\n",
      "[Tool(GEOLIS.001)] pertence ao arquivo 1RT  0001  MABRA1RT  0001  MA1\n",
      "[Tool(GEOLIS.002)] pertence ao arquivo 1RT  0001  MABRA1RT  0001  MA1\n",
      "[Tool(IES)] pertence ao arquivo 1RT  0001  MABRA1RT  0001  MA1\n",
      "[Tool(FDC/GR)] pertence ao arquivo 1RT  0001  MABRA1RT  0001  MA1\n",
      "[Tool(BHC)] pertence ao arquivo 1RT  0001  MABRA1RT  0001  MA1\n",
      "[Tool(IES)] pertence ao arquivo 1RT  0001  MABRA1RT  0001  MA1\n",
      "[Tool(BHC)] pertence ao arquivo 1RT  0001  MABRA1RT  0001  MA1\n",
      "[Tool(FDC/GR)] pertence ao arquivo 1RT  0001  MABRA1RT  0001  MA1\n",
      "[Tool(HDT)] pertence ao arquivo 1RT  0001  MABRA1RT  0001  MA1\n",
      "[Tool(BHC)] pertence ao arquivo 1RT  0001  MABRA1RT  0001  MA1\n",
      "[Tool(FDC/GR)] pertence ao arquivo 1RT  0001  MABRA1RT  0001  MA1\n",
      "[Tool(FROM__IES)] pertence ao arquivo 1RT  0001  MABRA1RT  0001  MA1\n",
      "[Tool(IES)] pertence ao arquivo 1RT  0001  MABRA1RT  0001  MA1\n",
      "[Tool(FROM__BHC)] pertence ao arquivo 1RT  0001  MABRA1RT  0001  MA1\n",
      "[Tool(GEOLIS.004)] pertence ao arquivo 1RL  0001  MABRA1RL  0001  MA1\n",
      "[Tool(GEOLIS.005)] pertence ao arquivo 1RL  0001  MABRA1RL  0001  MA1\n",
      "[Tool(HDT___.001)] pertence ao arquivo 1RL  0001  MABRA1RL  0001  MA1\n",
      "[Tool(HDT___.002)] pertence ao arquivo 1RL  0001  MABRA1RL  0001  MA1\n",
      "[Tool(GEOLIS.003)] pertence ao arquivo 1RL  0001  MABRA1RL  0001  MA1\n",
      "[Tool(IES)] pertence ao arquivo 1RL  0001  MABRA1RL  0001  MA1\n",
      "[Tool(BHC)] pertence ao arquivo 1RL  0001  MABRA1RL  0001  MA1\n",
      "[Tool(GR)] pertence ao arquivo 1RL  0001  MABRA1RL  0001  MA1\n",
      "[Tool(IES)] pertence ao arquivo 1RL  0001  MABRA1RL  0001  MA1\n",
      "[Tool(BHC)] pertence ao arquivo 1RL  0001  MABRA1RL  0001  MA1\n",
      "[Tool(HDT)] pertence ao arquivo 1RL  0001  MABRA1RL  0001  MA1\n",
      "[Tool(FDC/GR)] pertence ao arquivo 1RL  0001  MABRA1RL  0001  MA1\n",
      "[Tool(WST)] pertence ao arquivo 1RL  0001  MABRA1RL  0001  MA1\n",
      "[Tool(IES/BHC/GR)] pertence ao arquivo 1RL  0001  MABRA1RL  0001  MA1\n",
      "[Tool(IES/BHC)] pertence ao arquivo 1RL  0001  MABRA1RL  0001  MA1\n",
      "[Tool(FDC/GR)] pertence ao arquivo 1RL  0001  MABRA1RL  0001  MA1\n",
      "[Tool(FROM__BHC)] pertence ao arquivo 1RL  0001  MABRA1RL  0001  MA1\n",
      "[Tool(IES)] pertence ao arquivo 1PO  0001  MABRA1PO  0001  MA1\n",
      "[Tool(FDC/GR)] pertence ao arquivo 1PO  0001  MABRA1PO  0001  MA1\n",
      "[Tool(BHC)] pertence ao arquivo 1PO  0001  MABRA1PO  0001  MA1\n",
      "[Tool(IES)] pertence ao arquivo 1PO  0001  MABRA1PO  0001  MA1\n",
      "[Tool(BHC)] pertence ao arquivo 1PO  0001  MABRA1PO  0001  MA1\n",
      "[Tool(FDC/GR)] pertence ao arquivo 1PO  0001  MABRA1PO  0001  MA1\n",
      "[Tool(CST_GR)] pertence ao arquivo 1PO  0001  MABRA1PO  0001  MA1\n",
      "[Tool(WST)] pertence ao arquivo 1PO  0001  MABRA1PO  0001  MA1\n",
      "[Tool(IES)] pertence ao arquivo 1CG  0003  MABRA1CG  0003  MA1\n",
      "[Tool(BHC)] pertence ao arquivo 1CG  0003  MABRA1CG  0003  MA1\n",
      "[Tool(FDC/GR)] pertence ao arquivo 1CG  0003  MABRA1CG  0003  MA1\n",
      "[Tool(IES)] pertence ao arquivo 1CG  0003  MABRA1CG  0003  MA1\n",
      "[Tool(BHC)] pertence ao arquivo 1CG  0003  MABRA1CG  0003  MA1\n",
      "[Tool(FDC/GR)] pertence ao arquivo 1CG  0003  MABRA1CG  0003  MA1\n",
      "[Tool(WST)] pertence ao arquivo 1CG  0003  MABRA1CG  0003  MA1\n",
      "[Tool(ES)] pertence ao arquivo 1JU  0002  MABRA1JU  0002  MA1\n",
      "[Tool(ES)] pertence ao arquivo 1JU  0002  MABRA1JU  0002  MA1\n",
      "[Tool(ES)] pertence ao arquivo 1JU  0002  MABRA1JU  0002  MA1\n",
      "[Tool(GEOLIS.001)] pertence ao arquivo 1MA  0001  MGBRA1MA  0001  MG1\n",
      "[Tool(GEOLIS.002)] pertence ao arquivo 1MA  0001  MGBRA1MA  0001  MG1\n",
      "[Tool(FROM__ISS)] pertence ao arquivo 1MA  0001  MGBRA1MA  0001  MG1\n",
      "[Tool(FROM__DLL)] pertence ao arquivo 1MA  0001  MGBRA1MA  0001  MG1\n",
      "[Tool(FROM__LDN)] pertence ao arquivo 1MA  0001  MGBRA1MA  0001  MG1\n",
      "[Tool(FROM__NGT)] pertence ao arquivo 1MA  0001  MGBRA1MA  0001  MG1\n",
      "[Tool(LDT/CNL/NGS)] pertence ao arquivo 1MA  0001  MGBRA1MA  0001  MG1\n",
      "[Tool(ISF/BHC/GR)] pertence ao arquivo 1MA  0001  MGBRA1MA  0001  MG1\n",
      "[Tool(DLL/GR)] pertence ao arquivo 1MA  0001  MGBRA1MA  0001  MG1\n",
      "[Tool(LDT/CNL/NGS[RAZAO_T/P])] pertence ao arquivo 1MA  0001  MGBRA1MA  0001  MG1\n",
      "[Tool(TTI)] pertence ao arquivo 1MA  0001  MGBRA1MA  0001  MG1\n",
      "[Tool(LDT/CNL/NGS[RAZAO_T/U])] pertence ao arquivo 1MA  0001  MGBRA1MA  0001  MG1\n",
      "[Tool(LDT/CNL/NGS[RAZAO_U/P])] pertence ao arquivo 1MA  0001  MGBRA1MA  0001  MG1\n",
      "[Tool(GEOLIS.001)] pertence ao arquivo 1PE  0001  MABRA1PE  0001  MA1\n",
      "[Tool(GEOLIS.002)] pertence ao arquivo 1PE  0001  MABRA1PE  0001  MA1\n",
      "[Tool(IES)] pertence ao arquivo 1PE  0001  MABRA1PE  0001  MA1\n",
      "[Tool(BHC)] pertence ao arquivo 1PE  0001  MABRA1PE  0001  MA1\n",
      "[Tool(FDC/GR)] pertence ao arquivo 1PE  0001  MABRA1PE  0001  MA1\n",
      "[Tool(IES)] pertence ao arquivo 1PE  0001  MABRA1PE  0001  MA1\n",
      "[Tool(BHC)] pertence ao arquivo 1PE  0001  MABRA1PE  0001  MA1\n",
      "[Tool(FDC/GR)] pertence ao arquivo 1PE  0001  MABRA1PE  0001  MA1\n",
      "[Tool(HDT)] pertence ao arquivo 1PE  0001  MABRA1PE  0001  MA1\n",
      "[Tool(WST)] pertence ao arquivo 1PE  0001  MABRA1PE  0001  MA1\n",
      "[Tool(BSL/CAL)] pertence ao arquivo 1PE  0001  MABRA1PE  0001  MA1\n",
      "[Tool(BSL/CAL)] pertence ao arquivo 1PE  0001  MABRA1PE  0001  MA1\n",
      "[Tool(INTEGRACAO_DO_SONICO)] pertence ao arquivo 1PE  0001  MABRA1PE  0001  MA1\n",
      "[Tool(INTEGRACAO_DO_SONICO)] pertence ao arquivo 1PE  0001  MABRA1PE  0001  MA1\n",
      "[Tool(TTI)] pertence ao arquivo 1PE  0001  MABRA1PE  0001  MA1\n",
      "[Tool(ES)] pertence ao arquivo 1MO  0001  MABRA1MO  0001  MA1\n",
      "[Tool(ES)] pertence ao arquivo 1MO  0001  MABRA1MO  0001  MA1\n",
      "[Tool(ML)] pertence ao arquivo 1MO  0001  MABRA1MO  0001  MA1\n",
      "[Tool(ES)] pertence ao arquivo 1MO  0001  MABRA1MO  0001  MA1\n",
      "[Tool(ES)] pertence ao arquivo 1MO  0001  MABRA1MO  0001  MA1\n",
      "[Tool(ML/ML)] pertence ao arquivo 1MO  0001  MABRA1MO  0001  MA1\n",
      "[Tool(ES)] pertence ao arquivo 1MO  0001  MABRA1MO  0001  MA1\n",
      "[Tool(ES)] pertence ao arquivo 1MO  0001  MABRA1MO  0001  MA1\n",
      "[Tool(CDM)] pertence ao arquivo 1MO  0001  MABRA1MO  0001  MA1\n",
      "[Tool(ISF/MSFL/BHC/GR)] pertence ao arquivo 1RPR 0001  MABRA1RPR 0001  MA1\n",
      "[Tool(ISF/MSFL/BHC/GR)] pertence ao arquivo 1RPR 0001  MABRA1RPR 0001  MA1\n",
      "[Tool(LDL/CNL/GR)] pertence ao arquivo 1RPR 0001  MABRA1RPR 0001  MA1\n",
      "[Tool(WST)] pertence ao arquivo 1RPR 0001  MABRA1RPR 0001  MA1\n",
      "[Tool(CST_GR)] pertence ao arquivo 1RPR 0001  MABRA1RPR 0001  MA1\n",
      "[Tool(FROM__ISM)] pertence ao arquivo 1RPR 0001  MABRA1RPR 0001  MA1\n",
      "[Tool(ISF/MSFL/BHC/GR)] pertence ao arquivo 1RPR 0001  MABRA1RPR 0001  MA1\n",
      "[Tool(LDT/CNL/GR)] pertence ao arquivo 1RPR 0001  MABRA1RPR 0001  MA1\n",
      "[Tool(SONICO_CORRIGIDO)] pertence ao arquivo 1RPR 0001  MABRA1RPR 0001  MA1\n",
      "[Tool(FROM__LDN)] pertence ao arquivo 1RPR 0001  MABRA1RPR 0001  MA1\n",
      "[Tool(TTI)] pertence ao arquivo 1RPR 0001  MABRA1RPR 0001  MA1\n",
      "[Tool(CURVAS_EM_TEMPO)] pertence ao arquivo 1RPR 0001  MABRA1RPR 0001  MA1\n",
      "[Tool(ES)] pertence ao arquivo 1RP  0002  MABRA1RP  0002  MA1\n",
      "[Tool(ES)] pertence ao arquivo 1RP  0002  MABRA1RP  0002  MA1\n",
      "[Tool(ES)] pertence ao arquivo 1RP  0002  MABRA1RP  0002  MA1\n",
      "[Tool(ES)] pertence ao arquivo 1RP  0002  MABRA1RP  0002  MA1\n",
      "[Tool(ML)] pertence ao arquivo 1RP  0002  MABRA1RP  0002  MA1\n",
      "[Tool(ES)] pertence ao arquivo 1BO  0001  MABRA1BO  0001  MA1\n",
      "[Tool(ES)] pertence ao arquivo 1BO  0001  MABRA1BO  0001  MA1\n",
      "[Tool(ES)] pertence ao arquivo 1BO  0001  MABRA1BO  0001  MA1\n",
      "[Tool(ML)] pertence ao arquivo 1BO  0001  MABRA1BO  0001  MA1\n",
      "[Tool(ES)] pertence ao arquivo 1BO  0001  MABRA1BO  0001  MA1\n",
      "[Tool(ML)] pertence ao arquivo 1BO  0001  MABRA1BO  0001  MA1\n",
      "[Tool(CDM)] pertence ao arquivo 1BO  0001  MABRA1BO  0001  MA1\n",
      "[Tool(ES)] pertence ao arquivo 1RP  0001  MABRA1RP  0001  MA1\n",
      "[Tool(ES)] pertence ao arquivo 1RP  0001  MABRA1RP  0001  MA1\n",
      "[Tool(ES)] pertence ao arquivo 1RP  0001  MABRA1RP  0001  MA1\n",
      "[Tool(ES)] pertence ao arquivo 1JU  0001  MABRA1JU  0001  MA1\n",
      "[Tool(ES)] pertence ao arquivo 1JU  0001  MABRA1JU  0001  MA1\n",
      "[Tool(ES)] pertence ao arquivo 1JU  0001  MABRA1JU  0001  MA1\n"
     ]
    }
   ],
   "source": [
    "for file in Dlis_Plaza.DlisFileList:\n",
    "    for logical in file.MergedLogicalFiles:\n",
    "        print(f\"{logical.tools} pertence ao arquivo {file.DataDictList[0]['WELL']}\")"
   ]
  },
  {
   "cell_type": "code",
   "execution_count": 6,
   "metadata": {},
   "outputs": [
    {
     "data": {
      "text/plain": [
       "['1PE', '0001', 'MABRA1PE', '0001', 'MA1']"
      ]
     },
     "execution_count": 6,
     "metadata": {},
     "output_type": "execute_result"
    }
   ],
   "source": [
    "nome_teste = gamma1[10]['WELL']\n",
    "nome_teste.split()"
   ]
  },
  {
   "cell_type": "code",
   "execution_count": 7,
   "metadata": {},
   "outputs": [],
   "source": [
    "for df in gamma1:\n",
    "    GammaPlot.singleGamma(df_=df['DATAFRAME'],title=(f\"{df['WELL']}\"),save=True)"
   ]
  },
  {
   "cell_type": "code",
   "execution_count": 8,
   "metadata": {},
   "outputs": [],
   "source": [
    "import os"
   ]
  },
  {
   "cell_type": "code",
   "execution_count": 10,
   "metadata": {},
   "outputs": [
    {
     "ename": "TypeError",
     "evalue": "chdir() missing required argument 'path' (pos 1)",
     "output_type": "error",
     "traceback": [
      "\u001b[0;31m---------------------------------------------------------------------------\u001b[0m",
      "\u001b[0;31mTypeError\u001b[0m                                 Traceback (most recent call last)",
      "\u001b[0;32m/tmp/ipykernel_27153/3703573444.py\u001b[0m in \u001b[0;36m<module>\u001b[0;34m\u001b[0m\n\u001b[0;32m----> 1\u001b[0;31m \u001b[0mprint\u001b[0m\u001b[0;34m(\u001b[0m\u001b[0mos\u001b[0m\u001b[0;34m.\u001b[0m\u001b[0mchdir\u001b[0m\u001b[0;34m(\u001b[0m\u001b[0;34m)\u001b[0m\u001b[0;34m)\u001b[0m\u001b[0;34m\u001b[0m\u001b[0;34m\u001b[0m\u001b[0m\n\u001b[0m",
      "\u001b[0;31mTypeError\u001b[0m: chdir() missing required argument 'path' (pos 1)"
     ]
    }
   ],
   "source": []
  }
 ],
 "metadata": {
  "interpreter": {
   "hash": "aee8b7b246df8f9039afb4144a1f6fd8d2ca17a180786b69acc140d282b71a49"
  },
  "kernelspec": {
   "display_name": "Python 3.9.7 64-bit",
   "language": "python",
   "name": "python3"
  },
  "language_info": {
   "codemirror_mode": {
    "name": "ipython",
    "version": 3
   },
   "file_extension": ".py",
   "mimetype": "text/x-python",
   "name": "python",
   "nbconvert_exporter": "python",
   "pygments_lexer": "ipython3",
   "version": "3.9.9"
  },
  "orig_nbformat": 4
 },
 "nbformat": 4,
 "nbformat_minor": 2
}
